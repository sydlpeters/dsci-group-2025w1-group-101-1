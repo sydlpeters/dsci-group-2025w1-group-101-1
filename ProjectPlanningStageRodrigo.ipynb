{
 "cells": [
  {
   "cell_type": "code",
   "execution_count": null,
   "id": "d0ff425b",
   "metadata": {},
   "outputs": [],
   "source": [
    "import pandas as pd\n",
    "\n",
    "players = pd.read_csv(\"data/players.csv\")\n",
    "sessions = pd.read_csv(\"data/sessions.csv\")"
   ]
  },
  {
   "cell_type": "code",
   "execution_count": null,
   "id": "a90a2857",
   "metadata": {},
   "outputs": [],
   "source": [
    "numberOfSessions = []\n",
    "for email in players[\"hashedEmail\"]:\n",
    "    numberOfSessions.append(sessions[sessions[\"hashedEmail\"] == email])\n",
    "\n",
    "players.assign(sessions = numberOfSessions)"
   ]
  },
  {
   "cell_type": "code",
   "execution_count": null,
   "id": "84a23960",
   "metadata": {},
   "outputs": [],
   "source": []
  }
 ],
 "metadata": {
  "kernelspec": {
   "display_name": "Python 3",
   "language": "python",
   "name": "python3"
  },
  "language_info": {
   "name": "python",
   "version": "3.11.9"
  }
 },
 "nbformat": 4,
 "nbformat_minor": 5
}
