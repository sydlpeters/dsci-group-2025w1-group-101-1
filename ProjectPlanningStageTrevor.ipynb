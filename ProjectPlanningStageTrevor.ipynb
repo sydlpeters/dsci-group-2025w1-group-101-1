{
 "cells": [
  {
   "cell_type": "markdown",
   "id": "be5859e7-3443-440d-b311-2cab4222f2fc",
   "metadata": {},
   "source": [
    "**Data Science Project: Planning Stage (Individual)**"
   ]
  },
  {
   "cell_type": "markdown",
   "id": "6aab3973-51df-47c4-9a2b-ecd9bbc3c5b0",
   "metadata": {},
   "source": [
    "**Problem**: Predicting Usage of a Video Game Research Server"
   ]
  },
  {
   "cell_type": "markdown",
   "id": "4a076aae-93e1-4c2e-a1b0-c7e599736f51",
   "metadata": {},
   "source": [
    "A research group in UBC’s Department of Computer Science is studying how people play Minecraft by collecting data from a research server. Each player’s in-game actions are recorded to analyze gameplay behaviour and engagement patterns. The team needs to understand which players contribute the most data so they can manage server resources efficiently and improve their recruitment strategy."
   ]
  },
  {
   "cell_type": "markdown",
   "id": "c72781ce-aa99-45eb-88b5-d47f606285a2",
   "metadata": {},
   "source": [
    "The research group would like to know which kinds of players are most likely to contribute a large amount of data so they can target those players in future recruiting efforts.\n",
    "\n",
    "For this project, I will focus on predicting which player characteristics and in-game behaviours are most associated with higher total data contribution. Specifically, I aim to answer:\n",
    "**Can we predict the total amount of data a player contributes based on their average session length, number of sessions, and total playtime?**"
   ]
  },
  {
   "cell_type": "code",
   "execution_count": null,
   "id": "dd16d015-b986-476b-a717-c36f6530ea3f",
   "metadata": {},
   "outputs": [],
   "source": []
  }
 ],
 "metadata": {
  "kernelspec": {
   "display_name": "Python 3 (ipykernel)",
   "language": "python",
   "name": "python3"
  },
  "language_info": {
   "codemirror_mode": {
    "name": "ipython",
    "version": 3
   },
   "file_extension": ".py",
   "mimetype": "text/x-python",
   "name": "python",
   "nbconvert_exporter": "python",
   "pygments_lexer": "ipython3",
   "version": "3.11.9"
  }
 },
 "nbformat": 4,
 "nbformat_minor": 5
}
