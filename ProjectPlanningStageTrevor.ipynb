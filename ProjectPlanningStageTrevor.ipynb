{
 "cells": [
  {
   "cell_type": "markdown",
   "id": "6aab3973-51df-47c4-9a2b-ecd9bbc3c5b0",
   "metadata": {},
   "source": [
    "Problem: Predicting Usage of a Video Game Research Server"
   ]
  },
  {
   "cell_type": "code",
   "execution_count": null,
   "id": "c9d97cad-147c-457d-b1c0-a7cc601b5c89",
   "metadata": {},
   "outputs": [],
   "source": []
  }
 ],
 "metadata": {
  "kernelspec": {
   "display_name": "Python 3 (ipykernel)",
   "language": "python",
   "name": "python3"
  },
  "language_info": {
   "codemirror_mode": {
    "name": "ipython",
    "version": 3
   },
   "file_extension": ".py",
   "mimetype": "text/x-python",
   "name": "python",
   "nbconvert_exporter": "python",
   "pygments_lexer": "ipython3",
   "version": "3.11.9"
  }
 },
 "nbformat": 4,
 "nbformat_minor": 5
}
